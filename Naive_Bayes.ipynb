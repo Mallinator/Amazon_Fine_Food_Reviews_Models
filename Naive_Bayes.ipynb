{
 "cells": [
  {
   "cell_type": "markdown",
   "metadata": {},
   "source": [
    "# NAIVE BAYES ON AMAZON FINE FOOD REVIEWS DATASET"
   ]
  },
  {
   "cell_type": "markdown",
   "metadata": {},
   "source": [
    "Data Source **[https://www.kaggle.com/snap/amazon-fine-food-reviews](https://www.kaggle.com/snap/amazon-fine-food-reviews)**"
   ]
  },
  {
   "cell_type": "markdown",
   "metadata": {},
   "source": [
    "The Amazon Fine Food Reviews dataset consists of reviews of fine foods from Amazon.It consist of data collected from past many years. This dataset consist of approx 550k reviews. "
   ]
  },
  {
   "cell_type": "markdown",
   "metadata": {},
   "source": [
    "![Naive Bayes Model on Amazon Review Dataset ](https://blog.easysol.net/wp-content/uploads/2018/03/Feature-Image.jpg) "
   ]
  },
  {
   "cell_type": "markdown",
   "metadata": {},
   "source": [
    "## SNIPPET\n",
    "1. Converted the reviews using NLP techniques i.e BOW, tf-IDF, Word2Vec and tf-IDF Word2Vec.\n",
    "2. Applied Naive Bayes on the dataset with both techniques i.e Bernaulli Naive Bayes and Multinomial Naive Bayes. \n",
    "3. Calculated Train Error, CV Error and Test Error to determine the performance and to ensure best fit.\n",
    "4. Compared performance of each model using accuracy, f1-score, recall, precision.\n",
    "5. Made confusion matrix between predicted and tested data.\n",
    "6. Conclusion based on the obtained results."
   ]
  },
  {
   "cell_type": "markdown",
   "metadata": {},
   "source": [
    "## DATA INFORMATION\n",
    "* Number of reviews: 568,454\n",
    "* Number of users: 256,059\n",
    "* Number of products: 74,258\n",
    "* Timespan: Oct 1999 - Oct 2012\n",
    "* Number of Attributes/Columns in data: 10 "
   ]
  },
  {
   "cell_type": "markdown",
   "metadata": {},
   "source": [
    "## ATTRIBUTE INFORMATION\n",
    "\n",
    "1.  Id\n",
    "2.  ProductId - unique identifier for the product\n",
    "3.  UserId - unqiue identifier for the user\n",
    "4.  ProfileName\n",
    "5.  HelpfulnessNumerator - number of users who found the review helpful\n",
    "6.  HelpfulnessDenominator - number of users who indicated whether they found the review helpful or not\n",
    "7.  Score - rating between 1 and 5\n",
    "8.  Time - timestamp for the review\n",
    "9.  Summary - brief summary of the review\n",
    "10. Text - text of the review"
   ]
  },
  {
   "cell_type": "markdown",
   "metadata": {},
   "source": [
    "## OBJECTIVE\n",
    "Predict the polarity of the review using Naive Bayes and Compare both models i.e Bernaulli and Multinomial to find the best one and ensure that the model is neither overfitting nor underfitting.   "
   ]
  },
  {
   "cell_type": "markdown",
   "metadata": {},
   "source": [
    "## LOADING"
   ]
  },
  {
   "cell_type": "code",
   "execution_count": 1,
   "metadata": {
    "collapsed": true
   },
   "outputs": [],
   "source": [
    "import sqlite3\n",
    "import pandas as pd"
   ]
  },
  {
   "cell_type": "code",
   "execution_count": 2,
   "metadata": {
    "collapsed": true
   },
   "outputs": [],
   "source": [
    "conn=sqlite3.connect('./final.sqlite') # making a connection with sqlite\n",
    "Data=pd.read_sql_query(\"\"\"SELECT * FROM Reviews\"\"\",conn)"
   ]
  },
  {
   "cell_type": "code",
   "execution_count": 3,
   "metadata": {},
   "outputs": [
    {
     "data": {
      "text/html": [
       "<div>\n",
       "<style>\n",
       "    .dataframe thead tr:only-child th {\n",
       "        text-align: right;\n",
       "    }\n",
       "\n",
       "    .dataframe thead th {\n",
       "        text-align: left;\n",
       "    }\n",
       "\n",
       "    .dataframe tbody tr th {\n",
       "        vertical-align: top;\n",
       "    }\n",
       "</style>\n",
       "<table border=\"1\" class=\"dataframe\">\n",
       "  <thead>\n",
       "    <tr style=\"text-align: right;\">\n",
       "      <th></th>\n",
       "      <th>index</th>\n",
       "      <th>Id</th>\n",
       "      <th>ProductId</th>\n",
       "      <th>UserId</th>\n",
       "      <th>ProfileName</th>\n",
       "      <th>HelpfulnessNumerator</th>\n",
       "      <th>HelpfulnessDenominator</th>\n",
       "      <th>Score</th>\n",
       "      <th>Time</th>\n",
       "      <th>Summary</th>\n",
       "      <th>Text</th>\n",
       "      <th>CleanedText</th>\n",
       "    </tr>\n",
       "  </thead>\n",
       "  <tbody>\n",
       "    <tr>\n",
       "      <th>0</th>\n",
       "      <td>138706</td>\n",
       "      <td>150524</td>\n",
       "      <td>0006641040</td>\n",
       "      <td>ACITT7DI6IDDL</td>\n",
       "      <td>shari zychinski</td>\n",
       "      <td>0</td>\n",
       "      <td>0</td>\n",
       "      <td>positive</td>\n",
       "      <td>939340800</td>\n",
       "      <td>EVERY book is educational</td>\n",
       "      <td>this witty little book makes my son laugh at l...</td>\n",
       "      <td>b'witti littl book make son laugh loud recit c...</td>\n",
       "    </tr>\n",
       "    <tr>\n",
       "      <th>1</th>\n",
       "      <td>138688</td>\n",
       "      <td>150506</td>\n",
       "      <td>0006641040</td>\n",
       "      <td>A2IW4PEEKO2R0U</td>\n",
       "      <td>Tracy</td>\n",
       "      <td>1</td>\n",
       "      <td>1</td>\n",
       "      <td>positive</td>\n",
       "      <td>1194739200</td>\n",
       "      <td>Love the book, miss the hard cover version</td>\n",
       "      <td>I grew up reading these Sendak books, and watc...</td>\n",
       "      <td>b'grew read sendak book watch realli rosi movi...</td>\n",
       "    </tr>\n",
       "    <tr>\n",
       "      <th>2</th>\n",
       "      <td>138689</td>\n",
       "      <td>150507</td>\n",
       "      <td>0006641040</td>\n",
       "      <td>A1S4A3IQ2MU7V4</td>\n",
       "      <td>sally sue \"sally sue\"</td>\n",
       "      <td>1</td>\n",
       "      <td>1</td>\n",
       "      <td>positive</td>\n",
       "      <td>1191456000</td>\n",
       "      <td>chicken soup with rice months</td>\n",
       "      <td>This is a fun way for children to learn their ...</td>\n",
       "      <td>b'fun way children learn month year learn poem...</td>\n",
       "    </tr>\n",
       "  </tbody>\n",
       "</table>\n",
       "</div>"
      ],
      "text/plain": [
       "    index      Id   ProductId          UserId            ProfileName  \\\n",
       "0  138706  150524  0006641040   ACITT7DI6IDDL        shari zychinski   \n",
       "1  138688  150506  0006641040  A2IW4PEEKO2R0U                  Tracy   \n",
       "2  138689  150507  0006641040  A1S4A3IQ2MU7V4  sally sue \"sally sue\"   \n",
       "\n",
       "   HelpfulnessNumerator  HelpfulnessDenominator     Score        Time  \\\n",
       "0                     0                       0  positive   939340800   \n",
       "1                     1                       1  positive  1194739200   \n",
       "2                     1                       1  positive  1191456000   \n",
       "\n",
       "                                      Summary  \\\n",
       "0                   EVERY book is educational   \n",
       "1  Love the book, miss the hard cover version   \n",
       "2               chicken soup with rice months   \n",
       "\n",
       "                                                Text  \\\n",
       "0  this witty little book makes my son laugh at l...   \n",
       "1  I grew up reading these Sendak books, and watc...   \n",
       "2  This is a fun way for children to learn their ...   \n",
       "\n",
       "                                         CleanedText  \n",
       "0  b'witti littl book make son laugh loud recit c...  \n",
       "1  b'grew read sendak book watch realli rosi movi...  \n",
       "2  b'fun way children learn month year learn poem...  "
      ]
     },
     "execution_count": 3,
     "metadata": {},
     "output_type": "execute_result"
    }
   ],
   "source": [
    "Data.head(3)"
   ]
  },
  {
   "cell_type": "markdown",
   "metadata": {},
   "source": [
    "## MAPPING"
   ]
  },
  {
   "cell_type": "code",
   "execution_count": 4,
   "metadata": {
    "collapsed": true
   },
   "outputs": [],
   "source": [
    "# function to map the polarity as 0 or 1\n",
    "def sign(x):\n",
    "    if x=='positive':\n",
    "        return 1\n",
    "    else:\n",
    "        return 0\n",
    "\n",
    "Data['Score']=Data['Score'].map(sign)"
   ]
  },
  {
   "cell_type": "code",
   "execution_count": 5,
   "metadata": {},
   "outputs": [
    {
     "name": "stdout",
     "output_type": "stream",
     "text": [
      "(364171, 12)\n"
     ]
    }
   ],
   "source": [
    "# Dimension\n",
    "print(Data.shape)"
   ]
  },
  {
   "cell_type": "code",
   "execution_count": 6,
   "metadata": {},
   "outputs": [
    {
     "data": {
      "text/plain": [
       "1    307061\n",
       "0     57110\n",
       "Name: Score, dtype: int64"
      ]
     },
     "execution_count": 6,
     "metadata": {},
     "output_type": "execute_result"
    }
   ],
   "source": [
    "Data['Score'].value_counts()"
   ]
  },
  {
   "cell_type": "markdown",
   "metadata": {},
   "source": [
    "## SORTING"
   ]
  },
  {
   "cell_type": "code",
   "execution_count": 7,
   "metadata": {
    "collapsed": true
   },
   "outputs": [],
   "source": [
    "# Sorting the data according to Time.\n",
    "Data.sort_values('Time',inplace=True)"
   ]
  },
  {
   "cell_type": "markdown",
   "metadata": {},
   "source": [
    "## IMPORTING"
   ]
  },
  {
   "cell_type": "code",
   "execution_count": 93,
   "metadata": {
    "collapsed": true
   },
   "outputs": [],
   "source": [
    "import re\n",
    "import gensim\n",
    "import pickle\n",
    "import numpy as np\n",
    "import time\n",
    "import seaborn as sns\n",
    "from scipy import sparse\n",
    "from prettytable import PrettyTable\n",
    "from sklearn.naive_bayes import MultinomialNB\n",
    "from sklearn.metrics import accuracy_score\n",
    "import statistics as s\n",
    "from sklearn.naive_bayes import BernoulliNB\n",
    "from sklearn.model_selection import train_test_split\n",
    "from sklearn.feature_extraction.text import CountVectorizer\n",
    "from sklearn.feature_extraction.text import TfidfTransformer\n",
    "from sklearn.feature_extraction.text import TfidfVectorizer\n",
    "from sklearn import preprocessing\n",
    "from sklearn.model_selection import TimeSeriesSplit\n",
    "from sklearn.model_selection import GridSearchCV\n",
    "from sklearn.metrics import accuracy_score\n",
    "from sklearn.metrics import f1_score\n",
    "from sklearn.metrics import confusion_matrix\n",
    "from sklearn.metrics import precision_score\n",
    "from sklearn.metrics import recall_score\n",
    "import matplotlib.pyplot as plt\n",
    "from gensim.models import Word2Vec\n",
    "from gensim.models import KeyedVectors"
   ]
  },
  {
   "cell_type": "markdown",
   "metadata": {},
   "source": [
    "## FUNCTIONS "
   ]
  },
  {
   "cell_type": "markdown",
   "metadata": {},
   "source": [
    "### 1. Split Function"
   ]
  },
  {
   "cell_type": "code",
   "execution_count": 9,
   "metadata": {
    "collapsed": true
   },
   "outputs": [],
   "source": [
    "'''\n",
    "This function is used to split that data into train and test.\n",
    "It uses the function to split it into 70-30 %.\n",
    "It does not shuffle so the data is distributed sequentially.\n",
    "'''\n",
    "def Split(d1,d2):\n",
    "    a,b,c,d= train_test_split(d1,d2,test_size=0.3,shuffle=False) # Splitting it in 70-30 without shuffling.\n",
    "    return a,b,c,d"
   ]
  },
  {
   "cell_type": "markdown",
   "metadata": {},
   "source": [
    "### 2. Naive Bayes With Grid Search CV"
   ]
  },
  {
   "cell_type": "code",
   "execution_count": 10,
   "metadata": {
    "collapsed": true
   },
   "outputs": [],
   "source": [
    "'''\n",
    "This function takes training data and algorithm as input and gives execution time, accuracy and the optimal value of alpha\n",
    "on that data.\n",
    "It uses GridSearch CV.\n",
    "'''\n",
    "def NB(X,Y,s):\n",
    "    start = time.time()\n",
    "    tscv = TimeSeriesSplit(n_splits=10)\n",
    "    parameters = {'alpha':[0.00001,0.0001,0.001,0.01,0.02,0.08,0.1,0.2,0.25,0.3,0.35,0.4,0.45,0.5,1,5,10,20,50,100,500,1000,10000]}\n",
    "    if s=='B':\n",
    "        clf = BernoulliNB()\n",
    "    else:\n",
    "        clf = MultinomialNB()\n",
    "    g = GridSearchCV(clf,parameters,cv=tscv,return_train_score=True,n_jobs=-1)\n",
    "    g.fit(X,Y)\n",
    "    end = time.time()\n",
    "    t=end-start\n",
    "    return t,g"
   ]
  },
  {
   "cell_type": "markdown",
   "metadata": {},
   "source": [
    "### 3. Hyperparameter vs Accuracy Plot"
   ]
  },
  {
   "cell_type": "code",
   "execution_count": 11,
   "metadata": {
    "collapsed": true
   },
   "outputs": [],
   "source": [
    "'''\n",
    "This function takes Object of gridsearch cv and plots the graph for accuracy vs alpha's.\n",
    "'''\n",
    "def Accplot(h,nlp,algo):\n",
    "    acu = h.cv_results_['mean_test_score']\n",
    "    alp = [0.00001,0.0001,0.001,0.01,0.02,0.08,0.1,0.2,0.25,0.3,0.35,0.4,0.45,0.5,1,5,10,20,50,100,500,1000,10000]\n",
    "    sns.set_style(\"darkgrid\")\n",
    "    plt.plot(alp,acu,'b--')\n",
    "    plt.xlabel(\"Alpha's\",fontsize=15, color='black')\n",
    "    plt.ylabel(\"Accuracy\",fontsize=15, color='black')\n",
    "    plt.title(\"Accuracy -\" + nlp + algo,fontsize=15, color='black')\n",
    "    plt.show()"
   ]
  },
  {
   "cell_type": "markdown",
   "metadata": {},
   "source": [
    "### 4. Hyperparameter vs Error Plot"
   ]
  },
  {
   "cell_type": "code",
   "execution_count": 12,
   "metadata": {
    "collapsed": true
   },
   "outputs": [],
   "source": [
    "'''\n",
    "This function takes the grid cv object and calculates CV accuracy and Training accuracy.\n",
    "Output is train error and CV error.\n",
    "It also plots the graph between Hyperparameters vs Errors.\n",
    "'''\n",
    "\n",
    "def Errorplot(h):\n",
    "    alp = [0.00001,0.0001,0.001,0.01,0.02,0.08,0.1,0.2,0.25,0.3,0.35,0.4,0.45,0.5,1,5,10,20,50,100,500,1000,10000]\n",
    "    cv_acc = list(h.cv_results_['mean_test_score'])\n",
    "    train_acc = list(h.cv_results_['mean_train_score'])\n",
    "    a = [1 - x for x in cv_acc]\n",
    "    b = [1 - x for x in train_acc]\n",
    "    plt.plot(alp, a, '-b', label='CV Error')\n",
    "    plt.plot(alp, b, '-r', label='Train Error')\n",
    "    plt.legend(loc='lower right')\n",
    "    plt.xlabel(\"Hyperparameters\",fontsize=15, color='black')\n",
    "    plt.ylabel(\"Train Error & Cv Error\",fontsize=15, color='black')\n",
    "    plt.title(\"Train vs CV Error on Hyperparameters\" ,fontsize=15, color='black')\n",
    "    plt.show()\n",
    "    print(\"The Train Error is -: \",round(s.mean(b),3)*100,\"%\\n\")\n",
    "    print(\"The CV Error is -: \",round(s.mean(a),3)*100,\"%\\n\") "
   ]
  },
  {
   "cell_type": "markdown",
   "metadata": {},
   "source": [
    "### 5. Predicting On Best Hyperparameter"
   ]
  },
  {
   "cell_type": "code",
   "execution_count": 13,
   "metadata": {
    "collapsed": true
   },
   "outputs": [],
   "source": [
    "'''\n",
    "It runs the desired algorithm on the optimal value of Alpha we get from training part.\n",
    "It also returns predicted values.\n",
    "'''\n",
    "def predict(s,a,xtrain,ytrain,xtest):\n",
    "    if s=='B':\n",
    "        clf = BernoulliNB(alpha = a)        \n",
    "    else:\n",
    "        clf = MultinomialNB(alpha = a)\n",
    "    clf.fit(xtrain,ytrain)\n",
    "    pred=clf.predict(xtest)\n",
    "    return clf,pred"
   ]
  },
  {
   "cell_type": "markdown",
   "metadata": {},
   "source": [
    "### 6. Performance Measurement"
   ]
  },
  {
   "cell_type": "code",
   "execution_count": 14,
   "metadata": {
    "collapsed": true
   },
   "outputs": [],
   "source": [
    "'''\n",
    "It gives the performance in terms of accuracy, F1 Score, recall, precision and test error also.\n",
    "'''\n",
    "def Measure(test,pre):\n",
    "    print(\"Accuracy on Test Data -: \",round(((accuracy_score(test,pre))*100),3),\"% \\n\")\n",
    "    print(\"F1 Score -:  \",round(((f1_score(test,pre))),3),\"\\n\")\n",
    "    print(\"Precision Score -: \",round(((precision_score(test,pre))),3),\"\\n\")\n",
    "    print(\"Recall Score -: \",round((recall_score(test,pre)),3),\"\\n\")\n",
    "    print(\"Test Error -: \",100-round(((accuracy_score(test,pre))*100),3))"
   ]
  },
  {
   "cell_type": "markdown",
   "metadata": {},
   "source": [
    "### 7. Confusion Matrix"
   ]
  },
  {
   "cell_type": "code",
   "execution_count": 15,
   "metadata": {
    "collapsed": true
   },
   "outputs": [],
   "source": [
    "'''\n",
    "It gives confusion matrix between actual and predicted values.\n",
    "'''\n",
    "def CF(test,pre):\n",
    "    cf = confusion_matrix(test,pre)\n",
    "    df =pd.DataFrame(cf,index=[0,1],columns=[0,1])\n",
    "    sns.set(font_scale=1.5)\n",
    "    sns.heatmap(df,annot=True,annot_kws={\"size\" :20},fmt='g')\n",
    "    return plt.show()"
   ]
  },
  {
   "cell_type": "markdown",
   "metadata": {},
   "source": [
    "### 8. Informative Features"
   ]
  },
  {
   "cell_type": "code",
   "execution_count": 16,
   "metadata": {
    "collapsed": true
   },
   "outputs": [],
   "source": [
    "'''\n",
    "This functions draws a pretty table of important features among positive and negative classes each according\n",
    "to the probabilities.\n",
    "'''\n",
    "def IF(c,co):\n",
    "    a = c.feature_log_prob_\n",
    "    f = co.get_feature_names()\n",
    "    l1 = list(zip(a[0],f))\n",
    "    l1 = sorted(l1,reverse=True)\n",
    "    l2 = list(zip(a[1],f))\n",
    "    l2 = sorted(l2,reverse=True)\n",
    "    x = PrettyTable()\n",
    "    x.field_names = [\"Top Negative Features\", \"Probability_neg\", \"Top Positive Features\", \"Probability_pos\"]\n",
    "    n=1\n",
    "    for i in range(25):\n",
    "        x.add_row([l1[i][1],l1[i][0],l2[i][1],l2[i][0]])\n",
    "        n+=2\n",
    "    print(x)"
   ]
  },
  {
   "cell_type": "markdown",
   "metadata": {},
   "source": [
    "### 9. Using Pickle - File Handling"
   ]
  },
  {
   "cell_type": "code",
   "execution_count": 17,
   "metadata": {
    "collapsed": true
   },
   "outputs": [],
   "source": [
    "'''\n",
    "These functions are used to save and retrieve the information and use it afterwards for future reference.\n",
    "'''\n",
    "\n",
    "# Method to Save the data.\n",
    "def save(o,f):\n",
    "    op=open(f+\".p\",\"wb\")\n",
    "    pickle.dump(o,op)\n",
    "\n",
    "# Method to retrieve the data.    \n",
    "def retrieve(f):\n",
    "    op=open(f+\".p\",\"rb\")\n",
    "    ret=pickle.load(op)\n",
    "    return ret"
   ]
  },
  {
   "cell_type": "markdown",
   "metadata": {},
   "source": [
    "### 10. List Of Words"
   ]
  },
  {
   "cell_type": "code",
   "execution_count": 18,
   "metadata": {
    "collapsed": true
   },
   "outputs": [],
   "source": [
    "'''\n",
    "This function takes sentences as input and it splits the sentence into words and makes list of words\n",
    "for each and every review.\n",
    "'''\n",
    "\n",
    "def cleanpunc(sentence): #function to clean the word of any punctuation or special characters\n",
    "    cleaned = re.sub(r'[?|!|\\'|\"|#]',r'',sentence)\n",
    "    cleaned = re.sub(r'[.|,|)|(|\\|/]',r' ',cleaned)\n",
    "    return  cleaned\n",
    "\n",
    "def LOW(l):\n",
    "    i=0\n",
    "    list_of_sent=[] # list to store all the lists.\n",
    "    for sent in l:\n",
    "        filtered_sentence=[] # list to store each review.\n",
    "        for w in sent.split():\n",
    "            for cleaned_words in cleanpunc(w).split():\n",
    "                if(cleaned_words.isalpha()):    \n",
    "                    filtered_sentence.append(cleaned_words.lower())\n",
    "                else:\n",
    "                    continue \n",
    "        list_of_sent.append(filtered_sentence)\n",
    "    return list_of_sent"
   ]
  },
  {
   "cell_type": "markdown",
   "metadata": {},
   "source": [
    "# NAIVE BAYES MODEL ON BAG OF WORDS ( BOW )\n",
    "\n",
    "![](https://cdn-images-1.medium.com/max/1600/0*JpqZhCNsQ_OGaRkB.jpg)"
   ]
  },
  {
   "cell_type": "markdown",
   "metadata": {},
   "source": [
    "###  SPLITTING INTO TRAIN AND TEST"
   ]
  },
  {
   "cell_type": "code",
   "execution_count": 19,
   "metadata": {
    "collapsed": true
   },
   "outputs": [],
   "source": [
    "x_train, x_test, y_train, y_test = Split(Data['CleanedText'].values,Data['Score'].values)"
   ]
  },
  {
   "cell_type": "code",
   "execution_count": 20,
   "metadata": {},
   "outputs": [
    {
     "name": "stdout",
     "output_type": "stream",
     "text": [
      "-----------------------TRAIN DATA------------------------------------\n",
      "(254919,)\n",
      "(254919,)\n",
      "---------------------------------------------------------------------\n",
      "\n",
      "-----------------------TEST DATA-------------------------------------\n",
      "(109252,)\n",
      "(109252,)\n"
     ]
    }
   ],
   "source": [
    "print(\"-----------------------TRAIN DATA------------------------------------\")\n",
    "print(x_train.shape)\n",
    "print(y_train.shape)\n",
    "print(\"---------------------------------------------------------------------\")\n",
    "print(\"\\n-----------------------TEST DATA-------------------------------------\")\n",
    "print(x_test.shape)\n",
    "print(y_test.shape)"
   ]
  },
  {
   "cell_type": "markdown",
   "metadata": {},
   "source": [
    "###  CONVERTING REVIEWS INTO VECTORS USING BOW"
   ]
  },
  {
   "cell_type": "code",
   "execution_count": 21,
   "metadata": {
    "collapsed": true
   },
   "outputs": [],
   "source": [
    "count = CountVectorizer(ngram_range=(1,2)) \n",
    "x_train = count.fit_transform(x_train)\n",
    "x_test = count.transform(x_test)"
   ]
  },
  {
   "cell_type": "code",
   "execution_count": 22,
   "metadata": {},
   "outputs": [
    {
     "name": "stdout",
     "output_type": "stream",
     "text": [
      "Train Dataset Shape -:  (254919, 2290079)\n",
      "Test Dataset Shape -:  (109252, 2290079)\n"
     ]
    }
   ],
   "source": [
    "print(\"Train Dataset Shape -: \",x_train.shape)\n",
    "print(\"Test Dataset Shape -: \",x_test.shape)"
   ]
  },
  {
   "cell_type": "markdown",
   "metadata": {},
   "source": [
    "###   NORMALIZING THE DATA "
   ]
  },
  {
   "cell_type": "code",
   "execution_count": 23,
   "metadata": {
    "collapsed": true
   },
   "outputs": [],
   "source": [
    "x_train = preprocessing.normalize(x_train)\n",
    "x_test = preprocessing.normalize(x_test)"
   ]
  },
  {
   "cell_type": "markdown",
   "metadata": {},
   "source": [
    "## BERNAULLI NAIVE BAYES\n",
    "\n",
    "![Bernaulli NB](https://encrypted-tbn0.gstatic.com/images?q=tbn:ANd9GcRlw46MRGl3Ox4cZTzXJ0PksGvVc4xWxjRsPQy949u8llCO399y)"
   ]
  },
  {
   "cell_type": "markdown",
   "metadata": {},
   "source": [
    "### Calling NB Function with training dataset"
   ]
  },
  {
   "cell_type": "code",
   "execution_count": 24,
   "metadata": {
    "collapsed": true
   },
   "outputs": [],
   "source": [
    "t, g = NB(x_train, y_train, 'B')"
   ]
  },
  {
   "cell_type": "code",
   "execution_count": 24,
   "metadata": {},
   "outputs": [
    {
     "name": "stdout",
     "output_type": "stream",
     "text": [
      "Time taken to complete -:  229.48659324645996 sec\n",
      "\n",
      "Best Hyperparameter -:  {'alpha': 0.001} \n",
      "\n",
      "Accuracy -:  89.718 %\n"
     ]
    }
   ],
   "source": [
    "print(\"Time taken to complete -: \",t,\"sec\\n\")\n",
    "print(\"Best Hyperparameter -: \",g.best_params_,\"\\n\")\n",
    "print(\"Accuracy -: \",round(g.best_score_*100,3),\"%\")"
   ]
  },
  {
   "cell_type": "markdown",
   "metadata": {},
   "source": [
    "### Alpha vs Accuracy Plot"
   ]
  },
  {
   "cell_type": "code",
   "execution_count": 25,
   "metadata": {},
   "outputs": [
    {
     "data": {
      "image/png": "[encoded data removed]",
      "text/plain": [
       "<matplotlib.figure.Figure at 0x2999e3af978>"
      ]
     },
     "metadata": {},
     "output_type": "display_data"
    }
   ],
   "source": [
    "Accplot(g, 'BOW', 'Bernaulli-NB')"
   ]
  },
  {
   "cell_type": "markdown",
   "metadata": {},
   "source": [
    "### Hyperparameters vs Error Plot"
   ]
  },
  {
   "cell_type": "code",
   "execution_count": 26,
   "metadata": {},
   "outputs": [
    {
     "data": {
      "image/png": "[encoded data removed]",
      "text/plain": [
       "<matplotlib.figure.Figure at 0x2999e3af4a8>"
      ]
     },
     "metadata": {},
     "output_type": "display_data"
    },
    {
     "name": "stdout",
     "output_type": "stream",
     "text": [
      "The Train Error is -:  7.3 %\n",
      "\n",
      "The CV Error is -:  14.3 %\n",
      "\n"
     ]
    }
   ],
   "source": [
    "Errorplot(g)"
   ]
  },
  {
   "cell_type": "markdown",
   "metadata": {},
   "source": [
    "### Predicting on Best Hyperparameter"
   ]
  },
  {
   "cell_type": "code",
   "execution_count": 27,
   "metadata": {
    "collapsed": true
   },
   "outputs": [],
   "source": [
    "clf, pred = predict('B', 0.001, x_train, y_train, x_test)"
   ]
  },
  {
   "cell_type": "markdown",
   "metadata": {},
   "source": [
    "### Measuring Performance"
   ]
  },
  {
   "cell_type": "code",
   "execution_count": 28,
   "metadata": {},
   "outputs": [
    {
     "name": "stdout",
     "output_type": "stream",
     "text": [
      "Accuracy on Test Data -:  88.871 % \n",
      "\n",
      "F1 Score -:   0.936 \n",
      "\n",
      "Precision Score -:  0.889 \n",
      "\n",
      "Recall Score -:  0.988 \n",
      "\n",
      "Test Error -:  11.129\n"
     ]
    }
   ],
   "source": [
    "Measure(y_test,pred)"
   ]
  },
  {
   "cell_type": "markdown",
   "metadata": {},
   "source": [
    "### Confusion Matrix"
   ]
  },
  {
   "cell_type": "code",
   "execution_count": 29,
   "metadata": {
    "scrolled": true
   },
   "outputs": [
    {
     "data": {
      "image/png": "[encoded data removed]",
      "text/plain": [
       "<matplotlib.figure.Figure at 0x299d64c4a90>"
      ]
     },
     "metadata": {},
     "output_type": "display_data"
    }
   ],
   "source": [
    "CF(y_test,pred)"
   ]
  },
  {
   "cell_type": "markdown",
   "metadata": {},
   "source": [
    "### Top Informative Features With Probabilities"
   ]
  },
  {
   "cell_type": "code",
   "execution_count": 30,
   "metadata": {},
   "outputs": [
    {
     "name": "stdout",
     "output_type": "stream",
     "text": [
      "+-----------------------+-----------------+-----------------------+-----------------+\n",
      "| Top Negative Features | Probability_neg | Top Positive Features | Probability_pos |\n",
      "+-----------------------+-----------------+-----------------------+-----------------+\n",
      "|          not          | -0.591495978586 |          not          |   -1.143502781  |\n",
      "|          tast         | -0.978229341871 |          like         |  -1.18976586811 |\n",
      "|          like         |  -1.00029217837 |          tast         |  -1.20777610866 |\n",
      "|        product        |  -1.20966002121 |          love         |  -1.27277138223 |\n",
      "|          one          |  -1.35423340058 |          good         |  -1.27701143801 |\n",
      "|         would         |  -1.42066838439 |         great         |  -1.29398558433 |\n",
      "|          veri         |  -1.46121372351 |         flavor        |  -1.42895460263 |\n",
      "|          tri          |  -1.46621430161 |          one          |  -1.47244014142 |\n",
      "|         flavor        |  -1.53763527983 |          veri         |  -1.48742715634 |\n",
      "|          good         |  -1.54512779078 |          use          |  -1.49067686533 |\n",
      "|          buy          |  -1.60967452302 |          tri          |  -1.53436216381 |\n",
      "|          get          |  -1.66774617814 |        product        |  -1.56418661232 |\n",
      "|          use          |  -1.70958494361 |          make         |  -1.64635042798 |\n",
      "|          dont         |  -1.75203714136 |          get          |  -1.69610144085 |\n",
      "|          even         |  -1.82744062758 |          buy          |  -1.90621339099 |\n",
      "|         order         |  -1.84675612379 |          time         |  -1.90972461953 |\n",
      "|          much         |  -1.96368519443 |         amazon        |  -1.94814878644 |\n",
      "|          make         |  -1.9729087875  |         would         |  -1.95812887643 |\n",
      "|         realli        |  -2.02352549552 |          best         |  -1.95845564177 |\n",
      "|          time         |  -2.02471976294 |          find         |  -1.97842626735 |\n",
      "|         amazon        |  -2.03051224777 |         realli        |  -1.98494901107 |\n",
      "|          love         |  -2.05587114284 |         price         |  -2.01631022762 |\n",
      "|          look         |  -2.08632822577 |          much         |  -2.03264909073 |\n",
      "|          eat          |  -2.09933341643 |          also         |  -2.04063584528 |\n",
      "|          box          |  -2.10126661391 |          eat          |  -2.05001119211 |\n",
      "+-----------------------+-----------------+-----------------------+-----------------+\n"
     ]
    }
   ],
   "source": [
    "IF(clf,count)"
   ]
  },
  {
   "cell_type": "markdown",
   "metadata": {},
   "source": [
    "## MULTINOMIAL NAIVE BAYES"
   ]
  },
  {
   "cell_type": "markdown",
   "metadata": {},
   "source": [
    "### Calling NB Function with training dataset"
   ]
  },
  {
   "cell_type": "code",
   "execution_count": 31,
   "metadata": {
    "collapsed": true
   },
   "outputs": [],
   "source": [
    "t, g = NB(x_train, y_train, 'M')"
   ]
  },
  {
   "cell_type": "code",
   "execution_count": 32,
   "metadata": {},
   "outputs": [
    {
     "name": "stdout",
     "output_type": "stream",
     "text": [
      "Time taken to complete -:  195.02917623519897 sec\n",
      "\n",
      "Best Hyperparameter -:  {'alpha': 0.001} \n",
      "\n",
      "Accuracy -:  90.289 %\n"
     ]
    }
   ],
   "source": [
    "print(\"Time taken to complete -: \",t,\"sec\\n\")\n",
    "print(\"Best Hyperparameter -: \",g.best_params_,\"\\n\")\n",
    "print(\"Accuracy -: \",round(g.best_score_*100,3),\"%\")"
   ]
  },
  {
   "cell_type": "markdown",
   "metadata": {},
   "source": [
    "### Alpha vs Accuracy Plot"
   ]
  },
  {
   "cell_type": "code",
   "execution_count": 33,
   "metadata": {},
   "outputs": [
    {
     "data": {
      "image/png": "[encoded data removed]",
      "text/plain": [
       "<matplotlib.figure.Figure at 0x299d3d76fd0>"
      ]
     },
     "metadata": {},
     "output_type": "display_data"
    }
   ],
   "source": [
    "Accplot(g, 'BOW', 'Multinomial-NB')"
   ]
  },
  {
   "cell_type": "markdown",
   "metadata": {},
   "source": [
    "### Hyperparameters vs Error Plot"
   ]
  },
  {
   "cell_type": "code",
   "execution_count": 34,
   "metadata": {},
   "outputs": [
    {
     "data": {
      "image/png": "[encoded data removed]",
      "text/plain": [
       "<matplotlib.figure.Figure at 0x299d44c0da0>"
      ]
     },
     "metadata": {},
     "output_type": "display_data"
    },
    {
     "name": "stdout",
     "output_type": "stream",
     "text": [
      "The Train Error is -:  9.9 %\n",
      "\n",
      "The CV Error is -:  14.1 %\n",
      "\n"
     ]
    }
   ],
   "source": [
    "Errorplot(g)"
   ]
  },
  {
   "cell_type": "markdown",
   "metadata": {},
   "source": [
    "### Predicting on Best Hyperparameter"
   ]
  },
  {
   "cell_type": "code",
   "execution_count": 35,
   "metadata": {
    "collapsed": true
   },
   "outputs": [],
   "source": [
    "clf, pred = predict('M', 0.001, x_train, y_train, x_test)"
   ]
  },
  {
   "cell_type": "markdown",
   "metadata": {},
   "source": [
    "### Measuring Performance"
   ]
  },
  {
   "cell_type": "code",
   "execution_count": 36,
   "metadata": {},
   "outputs": [
    {
     "name": "stdout",
     "output_type": "stream",
     "text": [
      "Accuracy on Test Data -:  88.916 % \n",
      "\n",
      "F1 Score -:   0.937 \n",
      "\n",
      "Precision Score -:  0.886 \n",
      "\n",
      "Recall Score -:  0.993 \n",
      "\n",
      "Test Error -:  11.084\n"
     ]
    }
   ],
   "source": [
    "Measure(y_test,pred)"
   ]
  },
  {
   "cell_type": "markdown",
   "metadata": {},
   "source": [
    "### Confusion Matrix"
   ]
  },
  {
   "cell_type": "code",
   "execution_count": 38,
   "metadata": {},
   "outputs": [
    {
     "data": {
      "image/png": "[encoded data removed]",
      "text/plain": [
       "<matplotlib.figure.Figure at 0x299d20239e8>"
      ]
     },
     "metadata": {},
     "output_type": "display_data"
    }
   ],
   "source": [
    "CF(y_test,pred)"
   ]
  },
  {
   "cell_type": "markdown",
   "metadata": {},
   "source": [
    "### Top Informative Features With Probabilities"
   ]
  },
  {
   "cell_type": "code",
   "execution_count": 37,
   "metadata": {},
   "outputs": [
    {
     "name": "stdout",
     "output_type": "stream",
     "text": [
      "+-----------------------+-----------------+-----------------------+-----------------+\n",
      "| Top Negative Features | Probability_neg | Top Positive Features | Probability_pos |\n",
      "+-----------------------+-----------------+-----------------------+-----------------+\n",
      "|          not          |  -4.39456968128 |          not          |  -5.08733210663 |\n",
      "|          tast         |  -4.80287504633 |          like         |  -5.11363424438 |\n",
      "|          like         |  -4.93626209316 |          tast         |  -5.11587401159 |\n",
      "|        product        |  -5.10272224388 |          love         |  -5.13784997904 |\n",
      "|         flavor        |  -5.42163426918 |         great         |  -5.15135938134 |\n",
      "|          one          |  -5.4258532145  |          good         |  -5.18779629708 |\n",
      "|          veri         |  -5.50994836331 |         flavor        |  -5.30372976915 |\n",
      "|         would         |  -5.54822196322 |          use          |  -5.41323068891 |\n",
      "|          tri          |  -5.56735853717 |          veri         |  -5.42123614647 |\n",
      "|          good         |  -5.66619844568 |        product        |  -5.42865616484 |\n",
      "|          buy          |  -5.71337557934 |          one          |  -5.48721364629 |\n",
      "|         coffe         |   -5.727499484  |          tri          |  -5.58453138364 |\n",
      "|         order         |  -5.78450913137 |          tea          |  -5.59431023374 |\n",
      "|          use          |  -5.80529900633 |         coffe         |  -5.63981788723 |\n",
      "|          get          |  -5.82406096746 |          make         |  -5.69706371871 |\n",
      "|          dont         |  -5.93893546279 |          get          |  -5.76234754565 |\n",
      "|          box          |  -5.99473797207 |          buy          |  -5.91909748435 |\n",
      "|          tea          |  -6.02787327741 |          best         |  -5.9521302228  |\n",
      "|          even         |  -6.0611099655  |         amazon        |  -5.96719037773 |\n",
      "|         amazon        |  -6.07515141709 |         price         |  -5.9747697241  |\n",
      "|          food         |  -6.09507522235 |          time         |  -5.99674540941 |\n",
      "|          much         |  -6.16233428554 |          find         |  -6.00644244085 |\n",
      "|         realli        |  -6.18321642592 |          food         |  -6.01131130938 |\n",
      "|          eat          |  -6.18853519616 |         realli        |  -6.03888192929 |\n",
      "|          bag          |  -6.20366272502 |         order         |  -6.05820905687 |\n",
      "+-----------------------+-----------------+-----------------------+-----------------+\n"
     ]
    }
   ],
   "source": [
    "IF(clf,count)"
   ]
  },
  {
   "cell_type": "markdown",
   "metadata": {},
   "source": [
    "# tf-IDF\n",
    "\n",
    "![](https://lphinternetservices.com/images/TF-IDF-define.jpg)"
   ]
  },
  {
   "cell_type": "markdown",
   "metadata": {},
   "source": [
    "###  SPLITTING INTO TRAIN AND TEST"
   ]
  },
  {
   "cell_type": "code",
   "execution_count": 39,
   "metadata": {
    "collapsed": true
   },
   "outputs": [],
   "source": [
    "x_train, x_test, y_train, y_test = Split(Data['CleanedText'].values,Data['Score'].values)"
   ]
  },
  {
   "cell_type": "code",
   "execution_count": 40,
   "metadata": {},
   "outputs": [
    {
     "name": "stdout",
     "output_type": "stream",
     "text": [
      "-----------------------TRAIN DATA------------------------------------\n",
      "(254919,)\n",
      "(254919,)\n",
      "---------------------------------------------------------------------\n",
      "\n",
      "-----------------------TEST DATA-------------------------------------\n",
      "(109252,)\n",
      "(109252,)\n"
     ]
    }
   ],
   "source": [
    "print(\"-----------------------TRAIN DATA------------------------------------\")\n",
    "print(x_train.shape)\n",
    "print(y_train.shape)\n",
    "print(\"---------------------------------------------------------------------\")\n",
    "print(\"\\n-----------------------TEST DATA-------------------------------------\")\n",
    "print(x_test.shape)\n",
    "print(y_test.shape)"
   ]
  },
  {
   "cell_type": "markdown",
   "metadata": {},
   "source": [
    "###  CONVERTING REVIEWS INTO VECTORS USING tf-IDF"
   ]
  },
  {
   "cell_type": "code",
   "execution_count": 41,
   "metadata": {
    "collapsed": true
   },
   "outputs": [],
   "source": [
    "tf_idf_vect = TfidfVectorizer(ngram_range=(1,2)) \n",
    "x_train = tf_idf_vect.fit_transform(x_train)\n",
    "x_test = tf_idf_vect.transform(x_test)"
   ]
  },
  {
   "cell_type": "code",
   "execution_count": 42,
   "metadata": {},
   "outputs": [
    {
     "name": "stdout",
     "output_type": "stream",
     "text": [
      "Train Dataset Shape -:  (254919, 2290079)\n",
      "Test Dataset Shape -:  (109252, 2290079)\n"
     ]
    }
   ],
   "source": [
    "print(\"Train Dataset Shape -: \",x_train.shape)\n",
    "print(\"Test Dataset Shape -: \",x_test.shape)"
   ]
  },
  {
   "cell_type": "markdown",
   "metadata": {},
   "source": [
    "###   NORMALIZING THE DATA "
   ]
  },
  {
   "cell_type": "code",
   "execution_count": 43,
   "metadata": {
    "collapsed": true
   },
   "outputs": [],
   "source": [
    "x_train = preprocessing.normalize(x_train)\n",
    "x_test = preprocessing.normalize(x_test)"
   ]
  },
  {
   "cell_type": "markdown",
   "metadata": {},
   "source": [
    "### BERNAULLI NAIVE BAYES\n",
    "\n",
    "![Bernaulli NB](https://encrypted-tbn0.gstatic.com/images?q=tbn:ANd9GcRlw46MRGl3Ox4cZTzXJ0PksGvVc4xWxjRsPQy949u8llCO399y)"
   ]
  },
  {
   "cell_type": "markdown",
   "metadata": {},
   "source": [
    "### Calling NB Function with training dataset"
   ]
  },
  {
   "cell_type": "code",
   "execution_count": 44,
   "metadata": {
    "collapsed": true
   },
   "outputs": [],
   "source": [
    "t, g = NB(x_train, y_train, 'B')"
   ]
  },
  {
   "cell_type": "code",
   "execution_count": 45,
   "metadata": {},
   "outputs": [
    {
     "name": "stdout",
     "output_type": "stream",
     "text": [
      "Time taken to complete -:  264.5981376171112 sec\n",
      "\n",
      "Best Hyperparameter -:  {'alpha': 0.001} \n",
      "\n",
      "Accuracy -:  89.718 %\n"
     ]
    }
   ],
   "source": [
    "print(\"Time taken to complete -: \",t,\"sec\\n\")\n",
    "print(\"Best Hyperparameter -: \",g.best_params_,\"\\n\")\n",
    "print(\"Accuracy -: \",round(g.best_score_*100,3),\"%\")"
   ]
  },
  {
   "cell_type": "markdown",
   "metadata": {},
   "source": [
    "### Alpha vs Accuracy Plot"
   ]
  },
  {
   "cell_type": "code",
   "execution_count": 46,
   "metadata": {},
   "outputs": [
    {
     "data": {
      "image/png": "[encoded data removed]",
      "text/plain": [
       "<matplotlib.figure.Figure at 0x299d6043b00>"
      ]
     },
     "metadata": {},
     "output_type": "display_data"
    }
   ],
   "source": [
    "Accplot(g, 'tf-IDF', 'Bernaulli-NB')"
   ]
  },
  {
   "cell_type": "markdown",
   "metadata": {},
   "source": [
    "### Hyperparameters vs Error Plot"
   ]
  },
  {
   "cell_type": "code",
   "execution_count": 47,
   "metadata": {},
   "outputs": [
    {
     "data": {
      "image/png": "[encoded data removed]",
      "text/plain": [
       "<matplotlib.figure.Figure at 0x299d6043470>"
      ]
     },
     "metadata": {},
     "output_type": "display_data"
    },
    {
     "name": "stdout",
     "output_type": "stream",
     "text": [
      "The Train Error is -:  7.3 %\n",
      "\n",
      "The CV Error is -:  14.3 %\n",
      "\n"
     ]
    }
   ],
   "source": [
    "Errorplot(g)"
   ]
  },
  {
   "cell_type": "markdown",
   "metadata": {},
   "source": [
    "### Predicting on Best Hyperparameter"
   ]
  },
  {
   "cell_type": "code",
   "execution_count": 48,
   "metadata": {
    "collapsed": true
   },
   "outputs": [],
   "source": [
    "clf, pred = predict('B', 0.001, x_train, y_train, x_test)"
   ]
  },
  {
   "cell_type": "markdown",
   "metadata": {},
   "source": [
    "### Measuring Performance"
   ]
  },
  {
   "cell_type": "code",
   "execution_count": 49,
   "metadata": {},
   "outputs": [
    {
     "name": "stdout",
     "output_type": "stream",
     "text": [
      "Accuracy on Test Data -:  88.871 % \n",
      "\n",
      "F1 Score -:   0.936 \n",
      "\n",
      "Precision Score -:  0.889 \n",
      "\n",
      "Recall Score -:  0.988 \n",
      "\n",
      "Test Error -:  11.129\n"
     ]
    }
   ],
   "source": [
    "Measure(y_test,pred)"
   ]
  },
  {
   "cell_type": "markdown",
   "metadata": {},
   "source": [
    "### Confusion Matrix"
   ]
  },
  {
   "cell_type": "code",
   "execution_count": 50,
   "metadata": {},
   "outputs": [
    {
     "data": {
      "image/png": "[encoded data removed]",
      "text/plain": [
       "<matplotlib.figure.Figure at 0x299d6043f98>"
      ]
     },
     "metadata": {},
     "output_type": "display_data"
    }
   ],
   "source": [
    "CF(y_test,pred)"
   ]
  },
  {
   "cell_type": "markdown",
   "metadata": {},
   "source": [
    "### Top Informative Features With Probabilities"
   ]
  },
  {
   "cell_type": "code",
   "execution_count": 51,
   "metadata": {},
   "outputs": [
    {
     "name": "stdout",
     "output_type": "stream",
     "text": [
      "+-----------------------+-----------------+-----------------------+-----------------+\n",
      "| Top Negative Features | Probability_neg | Top Positive Features | Probability_pos |\n",
      "+-----------------------+-----------------+-----------------------+-----------------+\n",
      "|          not          | -0.591495978586 |          not          |   -1.143502781  |\n",
      "|          tast         | -0.978229341871 |          like         |  -1.18976586811 |\n",
      "|          like         |  -1.00029217837 |          tast         |  -1.20777610866 |\n",
      "|        product        |  -1.20966002121 |          love         |  -1.27277138223 |\n",
      "|          one          |  -1.35423340058 |          good         |  -1.27701143801 |\n",
      "|         would         |  -1.42066838439 |         great         |  -1.29398558433 |\n",
      "|          veri         |  -1.46121372351 |         flavor        |  -1.42895460263 |\n",
      "|          tri          |  -1.46621430161 |          one          |  -1.47244014142 |\n",
      "|         flavor        |  -1.53763527983 |          veri         |  -1.48742715634 |\n",
      "|          good         |  -1.54512779078 |          use          |  -1.49067686533 |\n",
      "|          buy          |  -1.60967452302 |          tri          |  -1.53436216381 |\n",
      "|          get          |  -1.66774617814 |        product        |  -1.56418661232 |\n",
      "|          use          |  -1.70958494361 |          make         |  -1.64635042798 |\n",
      "|          dont         |  -1.75203714136 |          get          |  -1.69610144085 |\n",
      "|          even         |  -1.82744062758 |          buy          |  -1.90621339099 |\n",
      "|         order         |  -1.84675612379 |          time         |  -1.90972461953 |\n",
      "|          much         |  -1.96368519443 |         amazon        |  -1.94814878644 |\n",
      "|          make         |  -1.9729087875  |         would         |  -1.95812887643 |\n",
      "|         realli        |  -2.02352549552 |          best         |  -1.95845564177 |\n",
      "|          time         |  -2.02471976294 |          find         |  -1.97842626735 |\n",
      "|         amazon        |  -2.03051224777 |         realli        |  -1.98494901107 |\n",
      "|          love         |  -2.05587114284 |         price         |  -2.01631022762 |\n",
      "|          look         |  -2.08632822577 |          much         |  -2.03264909073 |\n",
      "|          eat          |  -2.09933341643 |          also         |  -2.04063584528 |\n",
      "|          box          |  -2.10126661391 |          eat          |  -2.05001119211 |\n",
      "+-----------------------+-----------------+-----------------------+-----------------+\n"
     ]
    }
   ],
   "source": [
    "IF(clf,tf_idf_vect)"
   ]
  },
  {
   "cell_type": "markdown",
   "metadata": {},
   "source": [
    "### MULTINOMIAL  NAIVE BAYES"
   ]
  },
  {
   "cell_type": "markdown",
   "metadata": {},
   "source": [
    "### Calling NB Function with training dataset"
   ]
  },
  {
   "cell_type": "code",
   "execution_count": 52,
   "metadata": {
    "collapsed": true
   },
   "outputs": [],
   "source": [
    "t, g = NB(x_train, y_train, 'M')"
   ]
  },
  {
   "cell_type": "code",
   "execution_count": 53,
   "metadata": {},
   "outputs": [
    {
     "name": "stdout",
     "output_type": "stream",
     "text": [
      "Time taken to complete -:  213.79974484443665 sec\n",
      "\n",
      "Best Hyperparameter -:  {'alpha': 0.02} \n",
      "\n",
      "Accuracy -:  89.227 %\n"
     ]
    }
   ],
   "source": [
    "print(\"Time taken to complete -: \",t,\"sec\\n\")\n",
    "print(\"Best Hyperparameter -: \",g.best_params_,\"\\n\")\n",
    "print(\"Accuracy -: \",round(g.best_score_*100,3),\"%\")"
   ]
  },
  {
   "cell_type": "markdown",
   "metadata": {},
   "source": [
    "### Alpha vs Accuracy Plot"
   ]
  },
  {
   "cell_type": "code",
   "execution_count": 54,
   "metadata": {},
   "outputs": [
    {
     "data": {
      "image/png": "[encoded data removed]",
      "text/plain": [
       "<matplotlib.figure.Figure at 0x299ccc07e80>"
      ]
     },
     "metadata": {},
     "output_type": "display_data"
    }
   ],
   "source": [
    "Accplot(g, 'tf-IDF', 'Multinomial-NB')"
   ]
  },
  {
   "cell_type": "markdown",
   "metadata": {},
   "source": [
    "### Hyperparameters vs Error Plot"
   ]
  },
  {
   "cell_type": "code",
   "execution_count": 55,
   "metadata": {},
   "outputs": [
    {
     "data": {
      "image/png": "[encoded data removed]",
      "text/plain": [
       "<matplotlib.figure.Figure at 0x299ccc07390>"
      ]
     },
     "metadata": {},
     "output_type": "display_data"
    },
    {
     "name": "stdout",
     "output_type": "stream",
     "text": [
      "The Train Error is -:  9.1 %\n",
      "\n",
      "The CV Error is -:  14.1 %\n",
      "\n"
     ]
    }
   ],
   "source": [
    "Errorplot(g)"
   ]
  },
  {
   "cell_type": "markdown",
   "metadata": {},
   "source": [
    "### Predicting on Best Hyperparameter"
   ]
  },
  {
   "cell_type": "code",
   "execution_count": 56,
   "metadata": {
    "collapsed": true
   },
   "outputs": [],
   "source": [
    "clf, pred = predict('M', 0.02, x_train, y_train, x_test)"
   ]
  },
  {
   "cell_type": "markdown",
   "metadata": {},
   "source": [
    "### Measuring Performance"
   ]
  },
  {
   "cell_type": "code",
   "execution_count": 57,
   "metadata": {},
   "outputs": [
    {
     "name": "stdout",
     "output_type": "stream",
     "text": [
      "Accuracy on Test Data -:  89.811 % \n",
      "\n",
      "F1 Score -:   0.941 \n",
      "\n",
      "Precision Score -:  0.897 \n",
      "\n",
      "Recall Score -:  0.99 \n",
      "\n",
      "Test Error -:  10.189\n"
     ]
    }
   ],
   "source": [
    "Measure(y_test,pred)"
   ]
  },
  {
   "cell_type": "markdown",
   "metadata": {},
   "source": [
    "### Confusion Matrix"
   ]
  },
  {
   "cell_type": "code",
   "execution_count": 58,
   "metadata": {},
   "outputs": [
    {
     "data": {
      "image/png": "[encoded data removed]",
      "text/plain": [
       "<matplotlib.figure.Figure at 0x299d41942e8>"
      ]
     },
     "metadata": {},
     "output_type": "display_data"
    }
   ],
   "source": [
    "CF(y_test,pred)"
   ]
  },
  {
   "cell_type": "markdown",
   "metadata": {},
   "source": [
    "### Top Informative Features With Probabilities"
   ]
  },
  {
   "cell_type": "code",
   "execution_count": 59,
   "metadata": {},
   "outputs": [
    {
     "name": "stdout",
     "output_type": "stream",
     "text": [
      "+-----------------------+-----------------+-----------------------+-----------------+\n",
      "| Top Negative Features | Probability_neg | Top Positive Features | Probability_pos |\n",
      "+-----------------------+-----------------+-----------------------+-----------------+\n",
      "|          not          |  -5.80290394131 |         great         |  -6.2561340553  |\n",
      "|          tast         |  -6.13678432729 |          love         |  -6.26498470791 |\n",
      "|          like         |  -6.2789461342  |          tast         |  -6.31363447518 |\n",
      "|        product        |  -6.32403385514 |          tea          |  -6.31801850573 |\n",
      "|         would         |  -6.62441282194 |          like         |  -6.32230202326 |\n",
      "|         flavor        |  -6.63971618579 |          good         |  -6.32603250711 |\n",
      "|         coffe         |  -6.64264841499 |          not          |  -6.36144060994 |\n",
      "|          one          |  -6.6625209448  |         flavor        |  -6.38468385105 |\n",
      "|          veri         |  -6.72495979549 |         coffe         |  -6.4092940944  |\n",
      "|          tri          |  -6.76714461039 |          veri         |  -6.48825821735 |\n",
      "|          buy          |  -6.79400411565 |          use          |  -6.48859090922 |\n",
      "|         order         |  -6.79790750356 |        product        |  -6.49926836251 |\n",
      "|          box          |  -6.87928820739 |          one          |  -6.57928118858 |\n",
      "|          tea          |  -6.88746923392 |          tri          |  -6.64481473256 |\n",
      "|          good         |  -6.94759422312 |          make         |  -6.70547445688 |\n",
      "|       disappoint      |  -6.95062363452 |          get          |  -6.77367362275 |\n",
      "|          dont         |  -6.96643949338 |          best         |  -6.82138424462 |\n",
      "|          get          |  -6.97742975786 |         price         |  -6.83058465018 |\n",
      "|          use          |  -7.02383678788 |          food         |  -6.84868322585 |\n",
      "|          even         |  -7.05586053304 |          buy          |  -6.85485392068 |\n",
      "|          food         |  -7.07524851254 |         amazon        |  -6.86820317722 |\n",
      "|          bag          |  -7.10177839986 |          find         |  -6.88254392257 |\n",
      "|          bad          |  -7.10984888918 |          time         |  -6.91831772624 |\n",
      "|         amazon        |  -7.13414135393 |         realli        |  -6.92455002247 |\n",
      "|        purchas        |  -7.17455665139 |         order         |  -6.92501155692 |\n",
      "+-----------------------+-----------------+-----------------------+-----------------+\n"
     ]
    }
   ],
   "source": [
    "IF(clf,tf_idf_vect)"
   ]
  },
  {
   "cell_type": "markdown",
   "metadata": {},
   "source": [
    "# Avg Word2Vec\n",
    "\n",
    "![](https://adriancolyer.files.wordpress.com/2016/04/word2vec-gender-relation.png?w=596)"
   ]
  },
  {
   "cell_type": "markdown",
   "metadata": {},
   "source": [
    "### SPLIT DATA INTO TRAIN AND TEST"
   ]
  },
  {
   "cell_type": "code",
   "execution_count": 25,
   "metadata": {
    "collapsed": true
   },
   "outputs": [],
   "source": [
    "'''\n",
    "Here we are taking two lists and putting the data separate as Train in l4 and Test in l5.\n",
    "'''\n",
    "\n",
    "l4=[]\n",
    "for i in range(254919):\n",
    "    l1=Data['CleanedText'].values[i]\n",
    "    l2=str(l1)\n",
    "    l4.append(l2)\n",
    "\n",
    "l5=[]\n",
    "for i in range(254919,364171,1):\n",
    "    l1=Data['CleanedText'].values[i]\n",
    "    l2=str(l1)\n",
    "    l5.append(l2)"
   ]
  },
  {
   "cell_type": "markdown",
   "metadata": {},
   "source": [
    "### MAKING LIST OF WORDS"
   ]
  },
  {
   "cell_type": "code",
   "execution_count": 26,
   "metadata": {
    "collapsed": true
   },
   "outputs": [],
   "source": [
    "Train = LOW(l4)\n",
    "Test = LOW(l5)"
   ]
  },
  {
   "cell_type": "code",
   "execution_count": 27,
   "metadata": {},
   "outputs": [
    {
     "name": "stdout",
     "output_type": "stream",
     "text": [
      "Length of Train Dataset -:  254919\n",
      "Length of Test Dataset -:  109252\n"
     ]
    }
   ],
   "source": [
    "print(\"Length of Train Dataset -: \",len(Train))\n",
    "print(\"Length of Test Dataset -: \",len(Test))"
   ]
  },
  {
   "cell_type": "code",
   "execution_count": 28,
   "metadata": {},
   "outputs": [
    {
     "name": "stdout",
     "output_type": "stream",
     "text": [
      "____________________________________ TRAINING DATA ___________________________________________________\n",
      "b'twist rumplestiskin captur film star michael keaton geena davi prime tim burton masterpiec rumbl absurd wonder pace point not dull moment'\n",
      "\n",
      "********************Converted these sentences into a list of words each***********************\n",
      " \n",
      "['btwist', 'rumplestiskin', 'captur', 'film', 'star', 'michael', 'keaton', 'geena', 'davi', 'prime', 'tim', 'burton', 'masterpiec', 'rumbl', 'absurd', 'wonder', 'pace', 'point', 'not', 'dull', 'moment']\n",
      "--------------------------------------------------------------------------------------------------------------\n",
      "____________________________________ TEST DATA ___________________________________________________\n",
      "b'mix make good bread also use make pop over near made wheat wife celiac use bread popov pizza crust'\n",
      "\n",
      "********************Converted these sentences into a list of words each***********************\n",
      " \n",
      "['bmix', 'make', 'good', 'bread', 'also', 'use', 'make', 'pop', 'over', 'near', 'made', 'wheat', 'wife', 'celiac', 'use', 'bread', 'popov', 'pizza', 'crust']\n"
     ]
    }
   ],
   "source": [
    "print(\"____________________________________ TRAINING DATA ___________________________________________________\")\n",
    "print(Data['CleanedText'].values[3])\n",
    "\n",
    "print(\"\\n\" + \"********************Converted these sentences into a list of words each***********************\\n \")\n",
    "\n",
    "# First Review with breaking into words. \n",
    "print(Train[3])\n",
    "\n",
    "#-------------------------------------------------------------------------------------------------------------------\n",
    "print(\"--------------------------------------------------------------------------------------------------------------\")\n",
    "\n",
    "print(\"____________________________________ TEST DATA ___________________________________________________\")\n",
    "\n",
    "print(Data['CleanedText'].values[-1])\n",
    "\n",
    "print(\"\\n\" + \"********************Converted these sentences into a list of words each***********************\\n \")\n",
    "\n",
    "# First Review with breaking into words. \n",
    "print(Test[-1])"
   ]
  },
  {
   "cell_type": "markdown",
   "metadata": {},
   "source": [
    "### TRAINING THE MODEL ON TRAIN DATA"
   ]
  },
  {
   "cell_type": "code",
   "execution_count": 29,
   "metadata": {
    "collapsed": true
   },
   "outputs": [],
   "source": [
    "w2v_model=gensim.models.Word2Vec(Train,min_count=2,size=100, workers=4)"
   ]
  },
  {
   "cell_type": "markdown",
   "metadata": {},
   "source": [
    "###  CONVERTING REVIEWS INTO VECTORS USING AVG WORD2VEC"
   ]
  },
  {
   "cell_type": "code",
   "execution_count": 30,
   "metadata": {},
   "outputs": [
    {
     "name": "stderr",
     "output_type": "stream",
     "text": [
      "C:\\Users\\15-AU008TX\\Anaconda3\\lib\\site-packages\\ipykernel_launcher.py:35: RuntimeWarning: invalid value encountered in true_divide\n"
     ]
    }
   ],
   "source": [
    "'''\n",
    "Converting the reviews into vectors by using the above trained model.\n",
    "'''\n",
    "#-------------------------------------- TRAIN DATASET ------------------------------------------------------------------\n",
    "sent_vectors = []; # the avg-w2v for each sentence/review is stored in this list\n",
    "for sent in Train: # for each review/sentence\n",
    "    sent_vec = np.zeros(100) # as word vectors are of zero length\n",
    "    cnt_words =0; # num of words with a valid vector in the sentence/review\n",
    "    for word in sent: # for each word in a review/sentence\n",
    "        try:\n",
    "            vec = w2v_model.wv[word]\n",
    "            sent_vec += vec\n",
    "            cnt_words += 1\n",
    "        except:\n",
    "            pass\n",
    "    sent_vec /= cnt_words\n",
    "    sent_vectors.append(sent_vec)\n",
    "\n",
    "#------------------------------------- TEST DATASET --------------------------------------------------------------------    \n",
    "'''\n",
    "Here we are converting reviews of test data using the vocabulary of training data to make the concept of generalization \n",
    "meaningful and fruitful.\n",
    "'''\n",
    "sent_vectors1 = []; # the avg-w2v for each sentence/review is stored in this list\n",
    "for sent in Test: # for each review/sentence\n",
    "    sent_vec = np.zeros(100) # as word vectors are of zero length\n",
    "    cnt_words =0; # num of words with a valid vector in the sentence/review\n",
    "    for word in sent: # for each word in a review/sentence\n",
    "        try:\n",
    "            vec = w2v_model.wv[word]\n",
    "            sent_vec += vec\n",
    "            cnt_words += 1\n",
    "        except:\n",
    "            pass\n",
    "    sent_vec /= cnt_words\n",
    "    sent_vectors1.append(sent_vec)"
   ]
  },
  {
   "cell_type": "markdown",
   "metadata": {},
   "source": [
    "### CHECKING THE Nan VALUE"
   ]
  },
  {
   "cell_type": "code",
   "execution_count": 31,
   "metadata": {},
   "outputs": [
    {
     "name": "stdout",
     "output_type": "stream",
     "text": [
      "False\n",
      "True\n"
     ]
    }
   ],
   "source": [
    "sent_vectors=np.array(sent_vectors)\n",
    "print(np.isnan(sent_vectors).any())\n",
    "sent_vectors1=np.array(sent_vectors1)\n",
    "print(np.isnan(sent_vectors1).any())"
   ]
  },
  {
   "cell_type": "code",
   "execution_count": 32,
   "metadata": {},
   "outputs": [
    {
     "data": {
      "text/plain": [
       "array([[3254,    0],\n",
       "       [3254,    1],\n",
       "       [3254,    2],\n",
       "       [3254,    3],\n",
       "       [3254,    4],\n",
       "       [3254,    5],\n",
       "       [3254,    6],\n",
       "       [3254,    7],\n",
       "       [3254,    8],\n",
       "       [3254,    9],\n",
       "       [3254,   10],\n",
       "       [3254,   11],\n",
       "       [3254,   12],\n",
       "       [3254,   13],\n",
       "       [3254,   14],\n",
       "       [3254,   15],\n",
       "       [3254,   16],\n",
       "       [3254,   17],\n",
       "       [3254,   18],\n",
       "       [3254,   19],\n",
       "       [3254,   20],\n",
       "       [3254,   21],\n",
       "       [3254,   22],\n",
       "       [3254,   23],\n",
       "       [3254,   24],\n",
       "       [3254,   25],\n",
       "       [3254,   26],\n",
       "       [3254,   27],\n",
       "       [3254,   28],\n",
       "       [3254,   29],\n",
       "       [3254,   30],\n",
       "       [3254,   31],\n",
       "       [3254,   32],\n",
       "       [3254,   33],\n",
       "       [3254,   34],\n",
       "       [3254,   35],\n",
       "       [3254,   36],\n",
       "       [3254,   37],\n",
       "       [3254,   38],\n",
       "       [3254,   39],\n",
       "       [3254,   40],\n",
       "       [3254,   41],\n",
       "       [3254,   42],\n",
       "       [3254,   43],\n",
       "       [3254,   44],\n",
       "       [3254,   45],\n",
       "       [3254,   46],\n",
       "       [3254,   47],\n",
       "       [3254,   48],\n",
       "       [3254,   49],\n",
       "       [3254,   50],\n",
       "       [3254,   51],\n",
       "       [3254,   52],\n",
       "       [3254,   53],\n",
       "       [3254,   54],\n",
       "       [3254,   55],\n",
       "       [3254,   56],\n",
       "       [3254,   57],\n",
       "       [3254,   58],\n",
       "       [3254,   59],\n",
       "       [3254,   60],\n",
       "       [3254,   61],\n",
       "       [3254,   62],\n",
       "       [3254,   63],\n",
       "       [3254,   64],\n",
       "       [3254,   65],\n",
       "       [3254,   66],\n",
       "       [3254,   67],\n",
       "       [3254,   68],\n",
       "       [3254,   69],\n",
       "       [3254,   70],\n",
       "       [3254,   71],\n",
       "       [3254,   72],\n",
       "       [3254,   73],\n",
       "       [3254,   74],\n",
       "       [3254,   75],\n",
       "       [3254,   76],\n",
       "       [3254,   77],\n",
       "       [3254,   78],\n",
       "       [3254,   79],\n",
       "       [3254,   80],\n",
       "       [3254,   81],\n",
       "       [3254,   82],\n",
       "       [3254,   83],\n",
       "       [3254,   84],\n",
       "       [3254,   85],\n",
       "       [3254,   86],\n",
       "       [3254,   87],\n",
       "       [3254,   88],\n",
       "       [3254,   89],\n",
       "       [3254,   90],\n",
       "       [3254,   91],\n",
       "       [3254,   92],\n",
       "       [3254,   93],\n",
       "       [3254,   94],\n",
       "       [3254,   95],\n",
       "       [3254,   96],\n",
       "       [3254,   97],\n",
       "       [3254,   98],\n",
       "       [3254,   99]], dtype=int64)"
      ]
     },
     "execution_count": 32,
     "metadata": {},
     "output_type": "execute_result"
    }
   ],
   "source": [
    "'''\n",
    "Here we are checking that at which index or at which review Nan values are coming.\n",
    "'''\n",
    "np.argwhere(np.isnan(sent_vectors1))"
   ]
  },
  {
   "cell_type": "code",
   "execution_count": 33,
   "metadata": {
    "collapsed": true
   },
   "outputs": [],
   "source": [
    "'''\n",
    "Here we are putting a constant in place of Nan values but we can also use mean, median etc values. \n",
    "or we can remove this review as it will not effect performance of model as the no. of reviews with Nan \n",
    "values is 1 only that's why we can remove it also.\n",
    "'''\n",
    "sent_vectors1[3254]=0"
   ]
  },
  {
   "cell_type": "code",
   "execution_count": 34,
   "metadata": {},
   "outputs": [
    {
     "name": "stdout",
     "output_type": "stream",
     "text": [
      "False\n",
      "False\n"
     ]
    }
   ],
   "source": [
    "# Again checking the Nan values.\n",
    "print(np.isnan(sent_vectors).any())\n",
    "print(np.isnan(sent_vectors1).any())"
   ]
  },
  {
   "cell_type": "markdown",
   "metadata": {},
   "source": [
    "### SAVING"
   ]
  },
  {
   "cell_type": "code",
   "execution_count": 35,
   "metadata": {
    "collapsed": true
   },
   "outputs": [],
   "source": [
    "# Saving for future assignments.\n",
    "save(sent_vectors,\"Word2Vec-Train\")\n",
    "save(sent_vectors1,\"Word2Vec-Test\")"
   ]
  },
  {
   "cell_type": "markdown",
   "metadata": {},
   "source": [
    "## BERNAULLI  NAIVE BAYES\n",
    "\n",
    "![Bernaulli NB](https://encrypted-tbn0.gstatic.com/images?q=tbn:ANd9GcRlw46MRGl3Ox4cZTzXJ0PksGvVc4xWxjRsPQy949u8llCO399y)"
   ]
  },
  {
   "cell_type": "markdown",
   "metadata": {},
   "source": [
    "### Calling NB Function with training dataset"
   ]
  },
  {
   "cell_type": "code",
   "execution_count": 36,
   "metadata": {
    "collapsed": true
   },
   "outputs": [],
   "source": [
    "t, g = NB(sent_vectors, y_train, 'B')"
   ]
  },
  {
   "cell_type": "code",
   "execution_count": 37,
   "metadata": {},
   "outputs": [
    {
     "name": "stdout",
     "output_type": "stream",
     "text": [
      "Time taken to complete -:  163.2255663871765 sec\n",
      "\n",
      "Best Hyperparameter -:  {'alpha': 10000} \n",
      "\n",
      "Accuracy -:  83.629 %\n"
     ]
    }
   ],
   "source": [
    "print(\"Time taken to complete -: \",t,\"sec\\n\")\n",
    "print(\"Best Hyperparameter -: \",g.best_params_,\"\\n\")\n",
    "print(\"Accuracy -: \",round(g.best_score_*100,3),\"%\")"
   ]
  },
  {
   "cell_type": "markdown",
   "metadata": {},
   "source": [
    "### Alpha vs Accuracy Plot"
   ]
  },
  {
   "cell_type": "code",
   "execution_count": 38,
   "metadata": {},
   "outputs": [
    {
     "data": {
      "image/png": "[encoded data removed]",
      "text/plain": [
       "<matplotlib.figure.Figure at 0x1f4a97c2978>"
      ]
     },
     "metadata": {},
     "output_type": "display_data"
    }
   ],
   "source": [
    "Accplot(g, 'Word2Vec', 'Bernaulli-NB')"
   ]
  },
  {
   "cell_type": "markdown",
   "metadata": {},
   "source": [
    "### Hyperparameters vs Error Plot"
   ]
  },
  {
   "cell_type": "code",
   "execution_count": 39,
   "metadata": {},
   "outputs": [
    {
     "data": {
      "image/png": "[encoded data removed]",
      "text/plain": [
       "<matplotlib.figure.Figure at 0x1f49289aba8>"
      ]
     },
     "metadata": {},
     "output_type": "display_data"
    },
    {
     "name": "stdout",
     "output_type": "stream",
     "text": [
      "The Train Error is -:  15.1 %\n",
      "\n",
      "The CV Error is -:  16.6 %\n",
      "\n"
     ]
    }
   ],
   "source": [
    "Errorplot(g)Errorplot(g)"
   ]
  },
  {
   "cell_type": "markdown",
   "metadata": {},
   "source": [
    "### Predicting on Best Hyperparameter"
   ]
  },
  {
   "cell_type": "code",
   "execution_count": 40,
   "metadata": {
    "collapsed": true
   },
   "outputs": [],
   "source": [
    "clf, pred = predict('B', 10000, sent_vectors, y_train, sent_vectors1)"
   ]
  },
  {
   "cell_type": "markdown",
   "metadata": {},
   "source": [
    "### Measuring Performance"
   ]
  },
  {
   "cell_type": "code",
   "execution_count": 41,
   "metadata": {},
   "outputs": [
    {
     "name": "stdout",
     "output_type": "stream",
     "text": [
      "Accuracy on Test Data -:  82.066 % \n",
      "\n",
      "F1 Score -:   0.895 \n",
      "\n",
      "Precision Score -:  0.867 \n",
      "\n",
      "Recall Score -:  0.925 \n",
      "\n",
      "Test Error -:  17.934\n"
     ]
    }
   ],
   "source": [
    "Measure(y_test,pred)"
   ]
  },
  {
   "cell_type": "markdown",
   "metadata": {},
   "source": [
    "### Confusion Matrix"
   ]
  },
  {
   "cell_type": "code",
   "execution_count": 42,
   "metadata": {},
   "outputs": [
    {
     "data": {
      "image/png": "[encoded data removed]",
      "text/plain": [
       "<matplotlib.figure.Figure at 0x1f441a4b128>"
      ]
     },
     "metadata": {},
     "output_type": "display_data"
    }
   ],
   "source": [
    "CF(y_test,pred)"
   ]
  },
  {
   "cell_type": "markdown",
   "metadata": {},
   "source": [
    "## MULTINOMIAL NAIVE BAYES"
   ]
  },
  {
   "cell_type": "markdown",
   "metadata": {
    "collapsed": true
   },
   "source": [
    "#### Not possible, as multinomial naive bayes does not work with negative values. "
   ]
  },
  {
   "cell_type": "markdown",
   "metadata": {},
   "source": [
    "# tf-IDF Word2Vec"
   ]
  },
  {
   "cell_type": "markdown",
   "metadata": {},
   "source": [
    "###  SPLITTING INTO TRAIN AND TEST"
   ]
  },
  {
   "cell_type": "code",
   "execution_count": 51,
   "metadata": {
    "collapsed": true
   },
   "outputs": [],
   "source": [
    "x_train, x_test, y_train, y_test = Split(Data['CleanedText'].values,Data['Score'].values)"
   ]
  },
  {
   "cell_type": "markdown",
   "metadata": {},
   "source": [
    "###  CONVERTING REVIEWS INTO VECTORS USING tf-IDF"
   ]
  },
  {
   "cell_type": "code",
   "execution_count": 52,
   "metadata": {
    "collapsed": true
   },
   "outputs": [],
   "source": [
    "tf_idf_vect = TfidfVectorizer(ngram_range=(1,1)) \n",
    "x_train = tf_idf_vect.fit_transform(x_train)\n",
    "x_test = tf_idf_vect.transform(x_test)"
   ]
  },
  {
   "cell_type": "markdown",
   "metadata": {},
   "source": [
    "###  CONVERTING REVIEWS INTO VECTORS USING tf-IDF WORD2VEC"
   ]
  },
  {
   "cell_type": "code",
   "execution_count": 53,
   "metadata": {},
   "outputs": [
    {
     "name": "stderr",
     "output_type": "stream",
     "text": [
      "C:\\Users\\15-AU008TX\\Anaconda3\\lib\\site-packages\\ipykernel_launcher.py:18: RuntimeWarning: invalid value encountered in true_divide\n"
     ]
    }
   ],
   "source": [
    "tfidf_feat = tf_idf_vect.get_feature_names()\n",
    "\n",
    "tfidf_sent_vectors_train = []; # the tfidf-w2v for each sentence/review is stored in this list\n",
    "row=0;\n",
    "for sent in Train: # for each review/sentence\n",
    "    #print(row)\n",
    "    sent_vec = np.zeros(100) # as word vectors are of zero length\n",
    "    weight_sum =0; # num of words with a valid vector in the sentence/review\n",
    "    for word in sent: # for each word in a review/sentence\n",
    "        try:\n",
    "            vec = w2v_model.wv[word]\n",
    "            # obtain the tf_idfidf of a word in a sentence/review\n",
    "            tf_idf = x_train[row, tfidf_feat.index(word)]\n",
    "            sent_vec += (vec * tf_idf)\n",
    "            weight_sum += tf_idf\n",
    "        except:\n",
    "            pass\n",
    "    sent_vec /= weight_sum\n",
    "    tfidf_sent_vectors_train.append(sent_vec)\n",
    "    row += 1"
   ]
  },
  {
   "cell_type": "code",
   "execution_count": 54,
   "metadata": {},
   "outputs": [
    {
     "name": "stderr",
     "output_type": "stream",
     "text": [
      "C:\\Users\\15-AU008TX\\Anaconda3\\lib\\site-packages\\ipykernel_launcher.py:16: RuntimeWarning: invalid value encountered in true_divide\n",
      "  app.launch_new_instance()\n"
     ]
    }
   ],
   "source": [
    "tfidf_sent_vectors_test = []; # the tfidf-w2v for each sentence/review is stored in this list\n",
    "row=0;\n",
    "for sent in Test: # for each review/sentence\n",
    "    #print(row)\n",
    "    sent_vec = np.zeros(100) # as word vectors are of zero length\n",
    "    weight_sum =0; # num of words with a valid vector in the sentence/review\n",
    "    for word in sent: # for each word in a review/sentence\n",
    "        try:\n",
    "            vec = w2v_model.wv[word]\n",
    "            # obtain the tf_idfidf of a word in a sentence/review\n",
    "            tf_idf = x_test[row, tfidf_feat.index(word)]\n",
    "            sent_vec += (vec * tf_idf)\n",
    "            weight_sum += tf_idf\n",
    "        except:\n",
    "            pass\n",
    "    sent_vec /= weight_sum\n",
    "    tfidf_sent_vectors_test.append(sent_vec)\n",
    "    row += 1"
   ]
  },
  {
   "cell_type": "markdown",
   "metadata": {},
   "source": [
    "### Checking NaN Values"
   ]
  },
  {
   "cell_type": "code",
   "execution_count": 55,
   "metadata": {},
   "outputs": [
    {
     "name": "stdout",
     "output_type": "stream",
     "text": [
      "True\n",
      "True\n"
     ]
    }
   ],
   "source": [
    "train_data = np.array(tfidf_sent_vectors_train)\n",
    "test_data = np.array(tfidf_sent_vectors_test)\n",
    "print(np.isnan(train_data).any())\n",
    "print(np.isnan(test_data).any())"
   ]
  },
  {
   "cell_type": "markdown",
   "metadata": {},
   "source": [
    "### SAVING"
   ]
  },
  {
   "cell_type": "code",
   "execution_count": 75,
   "metadata": {
    "collapsed": true
   },
   "outputs": [],
   "source": [
    "# Saving for future assignments.\n",
    "save(train_data,\"tfidf-W2v-train\")\n",
    "save(test_data,\"tf-idf-w2v-test\")"
   ]
  },
  {
   "cell_type": "code",
   "execution_count": 76,
   "metadata": {
    "collapsed": true
   },
   "outputs": [],
   "source": [
    "# Creating new dataframes and putting array values in it.\n",
    "train_d = pd.DataFrame(train_data)\n",
    "test_d = pd.DataFrame(test_data)"
   ]
  },
  {
   "cell_type": "code",
   "execution_count": 79,
   "metadata": {
    "collapsed": true
   },
   "outputs": [],
   "source": [
    "'''\n",
    "replacing Nan values with constant in whole dataframes.\n",
    "'''\n",
    "train_d = train_d.fillna(0)\n",
    "test_d = test_d.fillna(0)"
   ]
  },
  {
   "cell_type": "code",
   "execution_count": 80,
   "metadata": {},
   "outputs": [
    {
     "name": "stdout",
     "output_type": "stream",
     "text": [
      "(254919, 100)\n",
      "(109252, 100)\n"
     ]
    }
   ],
   "source": [
    "print(train_d.shape)\n",
    "print(test_d.shape)"
   ]
  },
  {
   "cell_type": "markdown",
   "metadata": {},
   "source": [
    "## BERNAULLI NAIVE BAYES\n",
    "\n",
    "![Bernaulli NB](https://encrypted-tbn0.gstatic.com/images?q=tbn:ANd9GcRlw46MRGl3Ox4cZTzXJ0PksGvVc4xWxjRsPQy949u8llCO399y)"
   ]
  },
  {
   "cell_type": "markdown",
   "metadata": {},
   "source": [
    "### Calling NB Function with training dataset"
   ]
  },
  {
   "cell_type": "code",
   "execution_count": 85,
   "metadata": {
    "collapsed": true
   },
   "outputs": [],
   "source": [
    "t, g = NB(train_d, y_train, 'B')"
   ]
  },
  {
   "cell_type": "code",
   "execution_count": 86,
   "metadata": {},
   "outputs": [
    {
     "name": "stdout",
     "output_type": "stream",
     "text": [
      "Time taken to complete -:  138.74359464645386 sec\n",
      "\n",
      "Best Hyperparameter -:  {'alpha': 10} \n",
      "\n",
      "Accuracy -:  83.369 %\n"
     ]
    }
   ],
   "source": [
    "print(\"Time taken to complete -: \",t,\"sec\\n\")\n",
    "print(\"Best Hyperparameter -: \",g.best_params_,\"\\n\")\n",
    "print(\"Accuracy -: \",round(g.best_score_*100,3),\"%\")"
   ]
  },
  {
   "cell_type": "markdown",
   "metadata": {},
   "source": [
    "### Alpha vs Accuracy Plot"
   ]
  },
  {
   "cell_type": "code",
   "execution_count": 87,
   "metadata": {},
   "outputs": [
    {
     "data": {
      "image/png": "[encoded data removed]",
      "text/plain": [
       "<matplotlib.figure.Figure at 0x1f441b33320>"
      ]
     },
     "metadata": {},
     "output_type": "display_data"
    }
   ],
   "source": [
    "Accplot(g, 'tf-idf Word2Vec', 'Bernaulli-NB')"
   ]
  },
  {
   "cell_type": "markdown",
   "metadata": {},
   "source": [
    "### Hyperparameters vs Error Plot"
   ]
  },
  {
   "cell_type": "code",
   "execution_count": 88,
   "metadata": {},
   "outputs": [
    {
     "data": {
      "image/png": "[encoded data removed]",
      "text/plain": [
       "<matplotlib.figure.Figure at 0x1f441b33588>"
      ]
     },
     "metadata": {},
     "output_type": "display_data"
    },
    {
     "name": "stdout",
     "output_type": "stream",
     "text": [
      "The Train Error is -:  15.1 %\n",
      "\n",
      "The CV Error is -:  16.7 %\n",
      "\n"
     ]
    }
   ],
   "source": [
    "Errorplot(g)"
   ]
  },
  {
   "cell_type": "markdown",
   "metadata": {},
   "source": [
    "### Predicting on Best Hyperparameter"
   ]
  },
  {
   "cell_type": "code",
   "execution_count": 89,
   "metadata": {
    "collapsed": true
   },
   "outputs": [],
   "source": [
    "clf, pred = predict('B', 10, train_d, y_train, test_d)"
   ]
  },
  {
   "cell_type": "markdown",
   "metadata": {},
   "source": [
    "### Measuring Performance"
   ]
  },
  {
   "cell_type": "code",
   "execution_count": 90,
   "metadata": {},
   "outputs": [
    {
     "name": "stdout",
     "output_type": "stream",
     "text": [
      "Accuracy on Test Data -:  82.247 % \n",
      "\n",
      "F1 Score -:   0.891 \n",
      "\n",
      "Precision Score -:  0.903 \n",
      "\n",
      "Recall Score -:  0.88 \n",
      "\n",
      "Test Error -:  17.753\n"
     ]
    }
   ],
   "source": [
    "Measure(y_test,pred)"
   ]
  },
  {
   "cell_type": "markdown",
   "metadata": {},
   "source": [
    "### Confusion Matrix"
   ]
  },
  {
   "cell_type": "code",
   "execution_count": 91,
   "metadata": {},
   "outputs": [
    {
     "data": {
      "image/png": "[encoded data removed]",
      "text/plain": [
       "<matplotlib.figure.Figure at 0x1f4a97a6438>"
      ]
     },
     "metadata": {},
     "output_type": "display_data"
    }
   ],
   "source": [
    "CF(y_test,pred)"
   ]
  },
  {
   "cell_type": "markdown",
   "metadata": {},
   "source": [
    "#       -------------------------------------------------------------------------------------------------------"
   ]
  },
  {
   "cell_type": "markdown",
   "metadata": {},
   "source": [
    "![](https://i2.wp.com/www.gobloggingtips.com/wp-content/uploads/2014/11/Strong-blog-post-conclusions-e1454487099243.jpg?fit=639%2C447&ssl=1)"
   ]
  },
  {
   "cell_type": "code",
   "execution_count": 92,
   "metadata": {},
   "outputs": [
    {
     "name": "stdout",
     "output_type": "stream",
     "text": [
      "+-----------------+----------------+----------------+-------------+----------+--------------+-----------------+\n",
      "|  NLP Technique  |   Algorithm    | Hyperparameter | Accuracy(%) | F1 Score | Recall Score | Precision Score |\n",
      "+-----------------+----------------+----------------+-------------+----------+--------------+-----------------+\n",
      "|       BOW       |  Bernaulli NB  |     0.001      |    88.871   |  0.936   |    0.988     |      0.889      |\n",
      "|       BOW       | Multinomial NB |     0.001      |    88.916   |  0.937   |    0.993     |      0.886      |\n",
      "|      tf-IDF     |  Bernaulli NB  |     0.001      |    88.871   |  0.936   |    0.988     |      0.889      |\n",
      "|      tf-IDF     | Multinomial NB |      0.02      |    89.811   |  0.941   |     0.99     |      0.897      |\n",
      "|   Avg Word2Vec  |  Bernaulli NB  |     10000      |    82.066   |  0.895   |    0.925     |      0.867      |\n",
      "|   Avg Word2Vec  | Multinomial NB |       -        |      -      |    -     |      -       |        -        |\n",
      "| tf-IDF Word2Vec |  Bernaulli NB  |       10       |    82.247   |  0.891   |     0.88     |      0.903      |\n",
      "| tf-IDF Word2Vec | Multinomial NB |       -        |      -      |    -     |      -       |        -        |\n",
      "+-----------------+----------------+----------------+-------------+----------+--------------+-----------------+\n"
     ]
    }
   ],
   "source": [
    "x = PrettyTable()\n",
    "\n",
    "x.field_names = [\"NLP Technique\", \"Algorithm\", \"Hyperparameter\", \"Accuracy(%)\", \"F1 Score\", \"Recall Score\", \"Precision Score\"]\n",
    "\n",
    "x.add_row([\"BOW\", \"Bernaulli NB\", 0.001, 88.871, 0.936, 0.988, 0.889])\n",
    "x.add_row([\"BOW\", \"Multinomial NB\", 0.001, 88.916, 0.937, 0.993, 0.886])\n",
    "x.add_row([\"tf-IDF\", \"Bernaulli NB\", 0.001, 88.871, 0.936, 0.988, 0.889])\n",
    "x.add_row([\"tf-IDF\", \"Multinomial NB\", 0.02, 89.811, 0.941, 0.990, 0.897])\n",
    "x.add_row([\"Avg Word2Vec\", \"Bernaulli NB\", 10000, 82.066, 0.895, 0.925, 0.867])\n",
    "x.add_row([\"Avg Word2Vec\", \"Multinomial NB\", \"-\", \"-\", \"-\", \"-\", \"-\"])\n",
    "x.add_row([\"tf-IDF Word2Vec\", \"Bernaulli NB\", 10, 82.247, 0.891, 0.880, 0.903])\n",
    "x.add_row([\"tf-IDF Word2Vec\", \"Multinomial NB\", \"-\", \"-\", \"-\", \"-\", \"-\"])\n",
    "\n",
    "print(x)"
   ]
  },
  {
   "cell_type": "markdown",
   "metadata": {},
   "source": [
    "![](https://clip2art.com/images/professional-clipart-conclusion-18.jpg)\n",
    "\n",
    "### 1. The comparison shows that tf-IDF is a good technique on Naive Bayes for this dataset with an accuracy of 89.811 %.\n",
    "### 2. Therefore the best hyperparameter is 0.02 with an F1 Score of 0.941, recall Score of 0.99 and a precision of 0.897\n",
    "### 3. Multinomial Naive Bayes is giving better results as compared to Bernaulli Naive Bayes. \n",
    "### 4. Multinomial Naive Bayes is not good for the data set having negative values as it does not work with negative values.\n",
    "### 5. The basic assumption of naive bayes is that features are independent and i think this is the reason that it does not perform well with Word2Vec or tf-IDF Word2Vec.\n",
    "### 6. Naive Bayes is better than Knn as it is very fast as compared to Knn so it will be useful if we want the result in less time.\n",
    " "
   ]
  },
  {
   "cell_type": "code",
   "execution_count": null,
   "metadata": {
    "collapsed": true
   },
   "outputs": [],
   "source": []
  }
 ],
 "metadata": {
  "kernelspec": {
   "display_name": "Python 3",
   "language": "python",
   "name": "python3"
  },
  "language_info": {
   "codemirror_mode": {
    "name": "ipython",
    "version": 3
   },
   "file_extension": ".py",
   "mimetype": "text/x-python",
   "name": "python",
   "nbconvert_exporter": "python",
   "pygments_lexer": "ipython3",
   "version": "3.6.3"
  }
 },
 "nbformat": 4,
 "nbformat_minor": 2
}
